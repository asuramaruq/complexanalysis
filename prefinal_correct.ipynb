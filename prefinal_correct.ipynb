{
 "cells": [
  {
   "cell_type": "code",
   "execution_count": 1,
   "metadata": {},
   "outputs": [],
   "source": [
    "import pandas as pd\n",
    "import re\n",
    "\n",
    "df = pd.read_csv('PG_GET_FULL_ALL_202405171656.csv', low_memory=False)\n",
    "\n",
    "df['startSaleDate'] = pd.to_datetime(df['startSaleDate'], errors='coerce')\n",
    "\n",
    "filtered_df = df[df['startSaleDate'].dt.year.isin([2023, 2024])]\n",
    "\n",
    "exclude_types = ['Коттедж', 'Пентхаус','Сплитхаус', 'Квадрохаус', 'Таунхаус', 'Дуплекс', 'Участок', 'Кладовка', 'Паркинг', 'Офис', 'Наземный паркинг', 'Гараж', 'Цоколь']\n",
    "filtered_df = filtered_df[~filtered_df['PomeshcheniyeType'].isin(exclude_types)]"
   ]
  },
  {
   "cell_type": "code",
   "execution_count": 2,
   "metadata": {},
   "outputs": [
    {
     "data": {
      "text/plain": [
       "array(['Квартира'], dtype=object)"
      ]
     },
     "execution_count": 2,
     "metadata": {},
     "output_type": "execute_result"
    }
   ],
   "source": [
    "filtered_df['PomeshcheniyeType'].unique()"
   ]
  },
  {
   "cell_type": "code",
   "execution_count": 3,
   "metadata": {},
   "outputs": [
    {
     "name": "stdout",
     "output_type": "stream",
     "text": [
      "                         Complex  TotalArea\n",
      "0     4YOU Shymkent Business 1-1   16513.56\n",
      "1     4YOU Shymkent Business 1-2   11518.04\n",
      "2    4YOU Shymkent Bussiness 1-3    1950.17\n",
      "3                   ALA Park - 4   15732.61\n",
      "4                      Aisar - 2   15840.22\n",
      "..                           ...        ...\n",
      "121               Клубный Дом 44    5395.23\n",
      "122         Поколение Бизнес - 2   16064.80\n",
      "123         Поколение Бизнес - 3   11582.80\n",
      "124                   Ұлы Дала 1   17188.28\n",
      "125                   Ұлы Дала 2   21065.69\n",
      "\n",
      "[126 rows x 2 columns]\n",
      "Average area for complexes (2023-2024): 14535.07 m²\n",
      "The analysis covers 126 building complexes for the period of 2023-2024.\n"
     ]
    }
   ],
   "source": [
    "def extract_complex_name(name):\n",
    "    match = re.match(r'^(.*?)\\s[А-Яа-я]*$', name)\n",
    "    return match.group(1).strip() if match else name.strip()\n",
    "\n",
    "filtered_df['ComplexName'] = filtered_df['ObjectName'].apply(extract_complex_name)\n",
    "\n",
    "complex_areas = filtered_df.groupby('ComplexName')['Area'].sum().reset_index()\n",
    "complex_areas.columns = ['Complex', 'TotalArea']\n",
    "\n",
    "average_area = complex_areas['TotalArea'].mean()\n",
    "\n",
    "num_complexes = complex_areas.shape[0]\n",
    "\n",
    "description = f'The analysis covers {num_complexes} building complexes for the period of 2023-2024.'\n",
    "\n",
    "print(complex_areas)\n",
    "print(f'Average area for complexes (2023-2024): {average_area:.2f} m²')\n",
    "print(description)"
   ]
  }
 ],
 "metadata": {
  "kernelspec": {
   "display_name": "Python 3",
   "language": "python",
   "name": "python3"
  },
  "language_info": {
   "codemirror_mode": {
    "name": "ipython",
    "version": 3
   },
   "file_extension": ".py",
   "mimetype": "text/x-python",
   "name": "python",
   "nbconvert_exporter": "python",
   "pygments_lexer": "ipython3",
   "version": "3.11.1"
  }
 },
 "nbformat": 4,
 "nbformat_minor": 2
}
